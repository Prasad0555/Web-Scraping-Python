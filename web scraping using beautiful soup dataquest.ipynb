{
 "cells": [
  {
   "cell_type": "code",
   "execution_count": 1,
   "id": "6dba307a",
   "metadata": {},
   "outputs": [
    {
     "data": {
      "text/plain": [
       "<Response [200]>"
      ]
     },
     "execution_count": 1,
     "metadata": {},
     "output_type": "execute_result"
    }
   ],
   "source": [
    "import requests\n",
    "page = requests.get(\"https://dataquestio.github.io/web-scraping-pages/simple.html\")\n",
    "page"
   ]
  },
  {
   "cell_type": "code",
   "execution_count": 2,
   "id": "a8e1740d",
   "metadata": {},
   "outputs": [
    {
     "data": {
      "text/plain": [
       "200"
      ]
     },
     "execution_count": 2,
     "metadata": {},
     "output_type": "execute_result"
    }
   ],
   "source": [
    "page.status_code"
   ]
  },
  {
   "cell_type": "code",
   "execution_count": 3,
   "id": "baacfc3e",
   "metadata": {},
   "outputs": [
    {
     "data": {
      "text/plain": [
       "b'<!DOCTYPE html>\\n<html>\\n    <head>\\n        <title>A simple example page</title>\\n    </head>\\n    <body>\\n        <p>Here is some simple content for this page.</p>\\n    </body>\\n</html>'"
      ]
     },
     "execution_count": 3,
     "metadata": {},
     "output_type": "execute_result"
    }
   ],
   "source": [
    "# We can print out the HTML content of the page using the content property:\n",
    "page.content"
   ]
  },
  {
   "cell_type": "markdown",
   "id": "10b425c7",
   "metadata": {},
   "source": [
    "## Parsing a page with BeautifulSoup"
   ]
  },
  {
   "cell_type": "code",
   "execution_count": 4,
   "id": "35ad554c",
   "metadata": {},
   "outputs": [],
   "source": [
    "# As you can see above, we now have downloaded an HTML document.\n",
    "# We can use the BeautifulSoup library to parse this document, and extract the text from the p tag.\n",
    "#We first have to import the library, and create an instance of the BeautifulSoup class to parse our document:\n",
    "from bs4 import BeautifulSoup\n",
    "soup = BeautifulSoup(page.content, 'html.parser')"
   ]
  },
  {
   "cell_type": "code",
   "execution_count": 5,
   "id": "2d19e9d8",
   "metadata": {},
   "outputs": [
    {
     "name": "stdout",
     "output_type": "stream",
     "text": [
      "<!DOCTYPE html>\n",
      "<html>\n",
      " <head>\n",
      "  <title>\n",
      "   A simple example page\n",
      "  </title>\n",
      " </head>\n",
      " <body>\n",
      "  <p>\n",
      "   Here is some simple content for this page.\n",
      "  </p>\n",
      " </body>\n",
      "</html>\n"
     ]
    }
   ],
   "source": [
    "# We can now print out the HTML content of the page, formatted nicely, using the prettify method on the BeautifulSoup object.\n",
    "print(soup.prettify())"
   ]
  },
  {
   "cell_type": "markdown",
   "id": "13e0c02d",
   "metadata": {},
   "source": [
    "As all the tags are nested, we can move through the structure one level at a time. We can first select all the elements at the top level of the page using the children property of soup."
   ]
  },
  {
   "cell_type": "code",
   "execution_count": 6,
   "id": "048db729",
   "metadata": {},
   "outputs": [
    {
     "data": {
      "text/plain": [
       "['html',\n",
       " '\\n',\n",
       " <html>\n",
       " <head>\n",
       " <title>A simple example page</title>\n",
       " </head>\n",
       " <body>\n",
       " <p>Here is some simple content for this page.</p>\n",
       " </body>\n",
       " </html>]"
      ]
     },
     "execution_count": 6,
     "metadata": {},
     "output_type": "execute_result"
    }
   ],
   "source": [
    "# Note that children returns a list generator, so we need to call the list function on it:\n",
    "list(soup.children)"
   ]
  },
  {
   "cell_type": "markdown",
   "id": "ff677106",
   "metadata": {},
   "source": [
    "The above tells us that there are two tags at the top level of the page — the initial <!DOCTYPE html> tag, and the <html> tag. There is a newline character (n) in the list as well"
   ]
  },
  {
   "cell_type": "code",
   "execution_count": 7,
   "id": "cd96101a",
   "metadata": {},
   "outputs": [
    {
     "data": {
      "text/plain": [
       "[bs4.element.Doctype, bs4.element.NavigableString, bs4.element.Tag]"
      ]
     },
     "execution_count": 7,
     "metadata": {},
     "output_type": "execute_result"
    }
   ],
   "source": [
    "# Let’s see what the type of each element in the list is:\n",
    "[type(item) for item in list(soup.children)]"
   ]
  },
  {
   "cell_type": "markdown",
   "id": "33b4768e",
   "metadata": {},
   "source": [
    "As we can see, all of the items are BeautifulSoup objects:\n",
    "\n",
    "1. The first is a Doctype object, which contains information about the type of the document.\n",
    "\n",
    "2. The second is a NavigableString, which represents text found in the HTML document.\n",
    "\n",
    "3. The final item is a Tag object, which contains other nested tags.\n",
    "\n",
    "The most important object type, and the one we’ll deal with most often, is the Tag object.\n",
    "\n",
    "\n",
    "The Tag object allows us to navigate through an HTML document, and extract other tags and text. You can learn more about the various BeautifulSoup objects"
   ]
  },
  {
   "cell_type": "code",
   "execution_count": 8,
   "id": "5ca718a6",
   "metadata": {},
   "outputs": [],
   "source": [
    "# We can now select the html tag and its children by taking the third item in the list:\n",
    "html = list(soup.children)[2]"
   ]
  },
  {
   "cell_type": "markdown",
   "id": "394d0a9b",
   "metadata": {},
   "source": [
    "Each item in the list returned by the children property is also a BeautifulSoup object, so we can also call the children method on html."
   ]
  },
  {
   "cell_type": "code",
   "execution_count": 9,
   "id": "ce91f9e2",
   "metadata": {},
   "outputs": [
    {
     "data": {
      "text/plain": [
       "['\\n',\n",
       " <head>\n",
       " <title>A simple example page</title>\n",
       " </head>,\n",
       " '\\n',\n",
       " <body>\n",
       " <p>Here is some simple content for this page.</p>\n",
       " </body>,\n",
       " '\\n']"
      ]
     },
     "execution_count": 9,
     "metadata": {},
     "output_type": "execute_result"
    }
   ],
   "source": [
    "# Now, we can find the children inside the html tag:\n",
    "list(html.children)"
   ]
  },
  {
   "cell_type": "markdown",
   "id": "d8453432",
   "metadata": {},
   "source": [
    "As we can see above, there are two tags here, head, and body. We want to extract the text inside the p tag, so we’ll dive into the body:"
   ]
  },
  {
   "cell_type": "code",
   "execution_count": 10,
   "id": "651630fa",
   "metadata": {},
   "outputs": [],
   "source": [
    "body = list(html.children)[3]"
   ]
  },
  {
   "cell_type": "code",
   "execution_count": 11,
   "id": "3c4d09c6",
   "metadata": {},
   "outputs": [
    {
     "data": {
      "text/plain": [
       "['\\n', <p>Here is some simple content for this page.</p>, '\\n']"
      ]
     },
     "execution_count": 11,
     "metadata": {},
     "output_type": "execute_result"
    }
   ],
   "source": [
    "# Now, we can get the p tag by finding the children of the body tag:\n",
    "list(body.children)"
   ]
  },
  {
   "cell_type": "code",
   "execution_count": 12,
   "id": "825714d3",
   "metadata": {},
   "outputs": [],
   "source": [
    "# We can now isolate the p tag:\n",
    "p = list(body.children)[1]"
   ]
  },
  {
   "cell_type": "code",
   "execution_count": 13,
   "id": "9e56625b",
   "metadata": {},
   "outputs": [
    {
     "data": {
      "text/plain": [
       "'Here is some simple content for this page.'"
      ]
     },
     "execution_count": 13,
     "metadata": {},
     "output_type": "execute_result"
    }
   ],
   "source": [
    "# Once we’ve isolated the tag, we can use the get_text method to extract all of the text inside the tag:\n",
    "p.get_text()"
   ]
  },
  {
   "cell_type": "markdown",
   "id": "a690b52f",
   "metadata": {},
   "source": [
    "## Finding all instances of a tag at once"
   ]
  },
  {
   "cell_type": "markdown",
   "id": "cc11a775",
   "metadata": {},
   "source": [
    "What we did above was useful for figuring out how to navigate a page, but it took a lot of commands to do something fairly simple.\n",
    "If we want to extract a single tag, we can instead use the find_all method, which will find all the instances of a tag on a page."
   ]
  },
  {
   "cell_type": "code",
   "execution_count": 14,
   "id": "948117eb",
   "metadata": {},
   "outputs": [
    {
     "data": {
      "text/plain": [
       "[<p>Here is some simple content for this page.</p>]"
      ]
     },
     "execution_count": 14,
     "metadata": {},
     "output_type": "execute_result"
    }
   ],
   "source": [
    "soup = BeautifulSoup(page.content, 'html.parser')\n",
    "soup.find_all('p')"
   ]
  },
  {
   "cell_type": "code",
   "execution_count": 15,
   "id": "7e9f0580",
   "metadata": {},
   "outputs": [
    {
     "data": {
      "text/plain": [
       "'Here is some simple content for this page.'"
      ]
     },
     "execution_count": 15,
     "metadata": {},
     "output_type": "execute_result"
    }
   ],
   "source": [
    "# Note that find_all returns a list, so we’ll have to loop through, or use list indexing, it to extract text:\n",
    "soup.find_all('p')[0].get_text()"
   ]
  },
  {
   "cell_type": "code",
   "execution_count": 16,
   "id": "83d7a65f",
   "metadata": {},
   "outputs": [
    {
     "data": {
      "text/plain": [
       "<p>Here is some simple content for this page.</p>"
      ]
     },
     "execution_count": 16,
     "metadata": {},
     "output_type": "execute_result"
    }
   ],
   "source": [
    "# If you instead only want to find the first instance of a tag, you can use the find method, which will return a single\n",
    "# BeautifulSoup object:\n",
    "soup.find('p')"
   ]
  },
  {
   "cell_type": "markdown",
   "id": "28c7220e",
   "metadata": {},
   "source": [
    "## Searching for tags by class and id"
   ]
  },
  {
   "cell_type": "markdown",
   "id": "708547ff",
   "metadata": {},
   "source": [
    "We introduced classes and ids earlier, but it probably wasn’t clear why they were useful.\n",
    "\n",
    "Classes and ids are used by CSS to determine which HTML elements to apply certain styles to. But when we’re scraping, we can also use them to specify the elements we want to scrape.\n",
    "\n",
    "To illustrate this principle, we’ll work with the following page:\n",
    "    \n",
    "We can access the particular document at the URL https://dataquestio.github.io/web-scraping-pages/ids_and_classes.html.\n",
    "\n",
    "Let’s first download the page and create a BeautifulSoup object:"
   ]
  },
  {
   "cell_type": "code",
   "execution_count": 17,
   "id": "acf627a7",
   "metadata": {},
   "outputs": [
    {
     "data": {
      "text/plain": [
       "<html>\n",
       "<head>\n",
       "<title>A simple example page</title>\n",
       "</head>\n",
       "<body>\n",
       "<div>\n",
       "<p class=\"inner-text first-item\" id=\"first\">\n",
       "                First paragraph.\n",
       "            </p>\n",
       "<p class=\"inner-text\">\n",
       "                Second paragraph.\n",
       "            </p>\n",
       "</div>\n",
       "<p class=\"outer-text first-item\" id=\"second\">\n",
       "<b>\n",
       "                First outer paragraph.\n",
       "            </b>\n",
       "</p>\n",
       "<p class=\"outer-text\">\n",
       "<b>\n",
       "                Second outer paragraph.\n",
       "            </b>\n",
       "</p>\n",
       "</body>\n",
       "</html>"
      ]
     },
     "execution_count": 17,
     "metadata": {},
     "output_type": "execute_result"
    }
   ],
   "source": [
    "page = requests.get(\"https://dataquestio.github.io/web-scraping-pages/ids_and_classes.html\")\n",
    "soup = BeautifulSoup(page.content, 'html.parser')\n",
    "soup"
   ]
  },
  {
   "cell_type": "markdown",
   "id": "5364a5f5",
   "metadata": {},
   "source": [
    "Now, we can use the find_all method to search for items by class or by id. In the below example, we’ll search for any p tag that has the class outer-text:"
   ]
  },
  {
   "cell_type": "code",
   "execution_count": 18,
   "id": "36023675",
   "metadata": {},
   "outputs": [
    {
     "data": {
      "text/plain": [
       "[<p class=\"outer-text first-item\" id=\"second\">\n",
       " <b>\n",
       "                 First outer paragraph.\n",
       "             </b>\n",
       " </p>,\n",
       " <p class=\"outer-text\">\n",
       " <b>\n",
       "                 Second outer paragraph.\n",
       "             </b>\n",
       " </p>]"
      ]
     },
     "execution_count": 18,
     "metadata": {},
     "output_type": "execute_result"
    }
   ],
   "source": [
    "soup.find_all('p', class_='outer-text')"
   ]
  },
  {
   "cell_type": "code",
   "execution_count": 19,
   "id": "8f98789f",
   "metadata": {},
   "outputs": [
    {
     "data": {
      "text/plain": [
       "[<p class=\"outer-text first-item\" id=\"second\">\n",
       " <b>\n",
       "                 First outer paragraph.\n",
       "             </b>\n",
       " </p>,\n",
       " <p class=\"outer-text\">\n",
       " <b>\n",
       "                 Second outer paragraph.\n",
       "             </b>\n",
       " </p>]"
      ]
     },
     "execution_count": 19,
     "metadata": {},
     "output_type": "execute_result"
    }
   ],
   "source": [
    "# In the below example, we’ll look for any tag that has the class outer-text:\n",
    "soup.find_all(class_=\"outer-text\")"
   ]
  },
  {
   "cell_type": "code",
   "execution_count": 20,
   "id": "33b3dcfd",
   "metadata": {},
   "outputs": [
    {
     "data": {
      "text/plain": [
       "[<p class=\"inner-text first-item\" id=\"first\">\n",
       "                 First paragraph.\n",
       "             </p>]"
      ]
     },
     "execution_count": 20,
     "metadata": {},
     "output_type": "execute_result"
    }
   ],
   "source": [
    "# We can also search for elements by id:\n",
    "soup.find_all(id=\"first\")"
   ]
  },
  {
   "cell_type": "markdown",
   "id": "59d333f6",
   "metadata": {},
   "source": [
    "## Time to Start Scraping!"
   ]
  },
  {
   "cell_type": "markdown",
   "id": "f936c95a",
   "metadata": {},
   "source": [
    "We now know enough to download the page and start parsing it. In the below code, we will:\n",
    "\n",
    "1. Download the web page containing the forecast.\n",
    "\n",
    "2. Create a BeautifulSoup class to parse the page.\n",
    "\n",
    "3. Find the div with id seven-day-forecast, and assign to seven_day\n",
    "\n",
    "4. Inside seven_day, find each individual forecast item.\n",
    "\n",
    "5. Extract and print the first forecast item"
   ]
  },
  {
   "cell_type": "code",
   "execution_count": 21,
   "id": "abb9dc86",
   "metadata": {},
   "outputs": [
    {
     "name": "stdout",
     "output_type": "stream",
     "text": [
      "<div class=\"tombstone-container\">\n",
      " <p class=\"period-name\">\n",
      "  NOW until\n",
      "  <br/>\n",
      "  6:00am Wed\n",
      " </p>\n",
      " <p>\n",
      "  <img alt=\"\" class=\"forecast-icon\" src=\"newimages/medium/novc.png\" title=\"\"/>\n",
      " </p>\n",
      " <p class=\"short-desc\">\n",
      "  High Surf Advisory\n",
      " </p>\n",
      "</div>\n"
     ]
    }
   ],
   "source": [
    "page = requests.get(\"https://forecast.weather.gov/MapClick.php?lat=37.7772&lon=-122.4168\")\n",
    "soup = BeautifulSoup(page.content, 'html.parser')\n",
    "seven_day = soup.find(id=\"seven-day-forecast\")\n",
    "forecast_items = seven_day.find_all(class_=\"tombstone-container\")\n",
    "tonight = forecast_items[0]\n",
    "print(tonight.prettify())"
   ]
  },
  {
   "cell_type": "markdown",
   "id": "72097ddd",
   "metadata": {},
   "source": [
    "## Extracting information from the page"
   ]
  },
  {
   "cell_type": "markdown",
   "id": "a33fb1ed",
   "metadata": {},
   "source": [
    "As we can see, inside the forecast item tonight is all the information we want. There are four pieces of information we can extract:\n",
    "\n",
    "1. The name of the forecast item — in this case, Tonight.\n",
    "\n",
    "2. The description of the conditions — this is stored in the title property of img.\n",
    "\n",
    "3. A short description of the conditions — in this case, Mostly Clear.\n",
    "\n",
    "4. The temperature low — in this case, 49 degrees.\n",
    "\n",
    "We’ll extract the name of the forecast item, the short description, and the temperature first, since they’re all similar:"
   ]
  },
  {
   "cell_type": "code",
   "execution_count": 31,
   "id": "db99918b",
   "metadata": {},
   "outputs": [
    {
     "name": "stdout",
     "output_type": "stream",
     "text": [
      "NOW until6:00am Wed\n",
      "High Surf Advisory\n"
     ]
    }
   ],
   "source": [
    "period = tonight.find(class_=\"period-name\").get_text()\n",
    "short_desc = tonight.find(class_=\"short-desc\").get_text()\n",
    "#temp = tonight.find(class_=\"temp\").get_text()\n",
    "print(period)\n",
    "print(short_desc)\n",
    "#print(temp)"
   ]
  },
  {
   "cell_type": "code",
   "execution_count": 34,
   "id": "89b3848d",
   "metadata": {},
   "outputs": [
    {
     "name": "stdout",
     "output_type": "stream",
     "text": [
      "<img alt=\"\" class=\"forecast-icon\" src=\"newimages/medium/novc.png\" title=\"\"/>\n"
     ]
    }
   ],
   "source": [
    "# Now, we can extract the title attribute from the img tag. To do this, we just treat the BeautifulSoup object like a \n",
    "# dictionary, and pass in the attribute we want as a key:\n",
    "img = tonight.find(\"img\")\n",
    "desc = img['title']\n",
    "#print(desc)\n",
    "print(img)"
   ]
  },
  {
   "cell_type": "markdown",
   "id": "f7497ee1",
   "metadata": {},
   "source": [
    "## Extracting all the information from the page"
   ]
  },
  {
   "cell_type": "code",
   "execution_count": 35,
   "id": "e4c3af64",
   "metadata": {},
   "outputs": [
    {
     "data": {
      "text/plain": [
       "['NOW until6:00am Wed',\n",
       " 'Overnight',\n",
       " 'Wednesday',\n",
       " 'WednesdayNight',\n",
       " 'Thursday',\n",
       " 'ThursdayNight',\n",
       " 'Friday',\n",
       " 'FridayNight',\n",
       " 'Saturday']"
      ]
     },
     "execution_count": 35,
     "metadata": {},
     "output_type": "execute_result"
    }
   ],
   "source": [
    "# Select all items with the class period-name inside an item with the class tombstone-container in seven_day.\n",
    "# Use a list comprehension to call the get_text method on each BeautifulSoup object.\n",
    "period_tags = seven_day.select(\".tombstone-container .period-name\")\n",
    "periods = [pt.get_text() for pt in period_tags]\n",
    "periods"
   ]
  },
  {
   "cell_type": "markdown",
   "id": "e99ef322",
   "metadata": {},
   "source": [
    "As we can see above, our technique gets us each of the period names, in order.\n",
    "\n",
    "We can apply the same technique to get the other three fields:"
   ]
  },
  {
   "cell_type": "code",
   "execution_count": 38,
   "id": "532725aa",
   "metadata": {},
   "outputs": [
    {
     "name": "stdout",
     "output_type": "stream",
     "text": [
      "['High Surf Advisory', 'Cloudy', 'Patchy Fogthen MostlyCloudy', 'Patchy Fog', 'Areas Fogthen MostlyCloudy', 'Slight ChanceRain', 'Rain Likely', 'Partly Cloudy', 'Mostly Sunny']\n",
      "['Low: 50 °F', 'High: 58 °F', 'Low: 50 °F', 'High: 57 °F', 'Low: 49 °F', 'High: 57 °F', 'Low: 45 °F', 'High: 56 °F']\n",
      "['', 'Overnight: Cloudy, with a low around 50. Calm wind. ', 'Wednesday: Patchy fog between 11am and noon.  Otherwise, mostly cloudy, with a high near 58. South wind around 5 mph becoming calm  in the morning. ', 'Wednesday Night: Patchy fog after 9pm.  Otherwise, mostly cloudy, with a low around 50. Calm wind. ', 'Thursday: Areas of fog before 11am.  Otherwise, mostly cloudy, with a high near 57. Calm wind. ', 'Thursday Night: A 20 percent chance of rain after 10pm.  Mostly cloudy, with a low around 49. Light southwest wind.  New precipitation amounts of less than a tenth of an inch possible. ', 'Friday: Rain likely.  Mostly cloudy, with a high near 57. Chance of precipitation is 70%. New precipitation amounts of less than a tenth of an inch possible. ', 'Friday Night: Partly cloudy, with a low around 45.', 'Saturday: Mostly sunny, with a high near 56.']\n"
     ]
    }
   ],
   "source": [
    "short_descs = [sd.get_text() for sd in seven_day.select(\".tombstone-container .short-desc\")]\n",
    "temps = [t.get_text() for t in seven_day.select(\".tombstone-container .temp\")]\n",
    "descs = [d[\"title\"] for d in seven_day.select(\".tombstone-container img\")]\n",
    "print(short_descs)\n",
    "print(temps)\n",
    "print(descs)"
   ]
  },
  {
   "cell_type": "markdown",
   "id": "b939b5e8",
   "metadata": {},
   "source": [
    "## Combining our data into a Pandas Dataframe"
   ]
  },
  {
   "cell_type": "markdown",
   "id": "2809e801",
   "metadata": {},
   "source": [
    "We can now combine the data into a Pandas DataFrame and analyze it. A DataFrame is an object that can store tabular data, making data analysis easy. If you want to learn more about Pandas, check out our free to start course here.\n",
    "\n",
    "In order to do this, we’ll call the DataFrame class, and pass in each list of items that we have. We pass them in as part of a dictionary.\n",
    "\n",
    "Each dictionary key will become a column in the DataFrame, and each list will become the values in the column:"
   ]
  },
  {
   "cell_type": "code",
   "execution_count": 40,
   "id": "64f01c35",
   "metadata": {},
   "outputs": [
    {
     "data": {
      "text/html": [
       "<div>\n",
       "<style scoped>\n",
       "    .dataframe tbody tr th:only-of-type {\n",
       "        vertical-align: middle;\n",
       "    }\n",
       "\n",
       "    .dataframe tbody tr th {\n",
       "        vertical-align: top;\n",
       "    }\n",
       "\n",
       "    .dataframe thead th {\n",
       "        text-align: right;\n",
       "    }\n",
       "</style>\n",
       "<table border=\"1\" class=\"dataframe\">\n",
       "  <thead>\n",
       "    <tr style=\"text-align: right;\">\n",
       "      <th></th>\n",
       "      <th>period</th>\n",
       "      <th>short_desc</th>\n",
       "      <th>desc</th>\n",
       "    </tr>\n",
       "  </thead>\n",
       "  <tbody>\n",
       "    <tr>\n",
       "      <th>0</th>\n",
       "      <td>NOW until6:00am Wed</td>\n",
       "      <td>High Surf Advisory</td>\n",
       "      <td></td>\n",
       "    </tr>\n",
       "    <tr>\n",
       "      <th>1</th>\n",
       "      <td>Overnight</td>\n",
       "      <td>Cloudy</td>\n",
       "      <td>Overnight: Cloudy, with a low around 50. Calm ...</td>\n",
       "    </tr>\n",
       "    <tr>\n",
       "      <th>2</th>\n",
       "      <td>Wednesday</td>\n",
       "      <td>Patchy Fogthen MostlyCloudy</td>\n",
       "      <td>Wednesday: Patchy fog between 11am and noon.  ...</td>\n",
       "    </tr>\n",
       "    <tr>\n",
       "      <th>3</th>\n",
       "      <td>WednesdayNight</td>\n",
       "      <td>Patchy Fog</td>\n",
       "      <td>Wednesday Night: Patchy fog after 9pm.  Otherw...</td>\n",
       "    </tr>\n",
       "    <tr>\n",
       "      <th>4</th>\n",
       "      <td>Thursday</td>\n",
       "      <td>Areas Fogthen MostlyCloudy</td>\n",
       "      <td>Thursday: Areas of fog before 11am.  Otherwise...</td>\n",
       "    </tr>\n",
       "    <tr>\n",
       "      <th>5</th>\n",
       "      <td>ThursdayNight</td>\n",
       "      <td>Slight ChanceRain</td>\n",
       "      <td>Thursday Night: A 20 percent chance of rain af...</td>\n",
       "    </tr>\n",
       "    <tr>\n",
       "      <th>6</th>\n",
       "      <td>Friday</td>\n",
       "      <td>Rain Likely</td>\n",
       "      <td>Friday: Rain likely.  Mostly cloudy, with a hi...</td>\n",
       "    </tr>\n",
       "    <tr>\n",
       "      <th>7</th>\n",
       "      <td>FridayNight</td>\n",
       "      <td>Partly Cloudy</td>\n",
       "      <td>Friday Night: Partly cloudy, with a low around...</td>\n",
       "    </tr>\n",
       "    <tr>\n",
       "      <th>8</th>\n",
       "      <td>Saturday</td>\n",
       "      <td>Mostly Sunny</td>\n",
       "      <td>Saturday: Mostly sunny, with a high near 56.</td>\n",
       "    </tr>\n",
       "  </tbody>\n",
       "</table>\n",
       "</div>"
      ],
      "text/plain": [
       "                period                   short_desc  \\\n",
       "0  NOW until6:00am Wed           High Surf Advisory   \n",
       "1            Overnight                       Cloudy   \n",
       "2            Wednesday  Patchy Fogthen MostlyCloudy   \n",
       "3       WednesdayNight                   Patchy Fog   \n",
       "4             Thursday   Areas Fogthen MostlyCloudy   \n",
       "5        ThursdayNight            Slight ChanceRain   \n",
       "6               Friday                  Rain Likely   \n",
       "7          FridayNight                Partly Cloudy   \n",
       "8             Saturday                 Mostly Sunny   \n",
       "\n",
       "                                                desc  \n",
       "0                                                     \n",
       "1  Overnight: Cloudy, with a low around 50. Calm ...  \n",
       "2  Wednesday: Patchy fog between 11am and noon.  ...  \n",
       "3  Wednesday Night: Patchy fog after 9pm.  Otherw...  \n",
       "4  Thursday: Areas of fog before 11am.  Otherwise...  \n",
       "5  Thursday Night: A 20 percent chance of rain af...  \n",
       "6  Friday: Rain likely.  Mostly cloudy, with a hi...  \n",
       "7  Friday Night: Partly cloudy, with a low around...  \n",
       "8       Saturday: Mostly sunny, with a high near 56.  "
      ]
     },
     "execution_count": 40,
     "metadata": {},
     "output_type": "execute_result"
    }
   ],
   "source": [
    "import pandas as pd\n",
    "weather = pd.DataFrame({\n",
    "    \"period\": periods,\n",
    "    \"short_desc\": short_descs,\n",
    "    \"desc\":descs\n",
    "})\n",
    "weather"
   ]
  },
  {
   "cell_type": "code",
   "execution_count": null,
   "id": "9c751e9e",
   "metadata": {},
   "outputs": [],
   "source": []
  }
 ],
 "metadata": {
  "kernelspec": {
   "display_name": "Python 3 (ipykernel)",
   "language": "python",
   "name": "python3"
  },
  "language_info": {
   "codemirror_mode": {
    "name": "ipython",
    "version": 3
   },
   "file_extension": ".py",
   "mimetype": "text/x-python",
   "name": "python",
   "nbconvert_exporter": "python",
   "pygments_lexer": "ipython3",
   "version": "3.9.7"
  }
 },
 "nbformat": 4,
 "nbformat_minor": 5
}
